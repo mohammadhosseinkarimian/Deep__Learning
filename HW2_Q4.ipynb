{
  "nbformat": 4,
  "nbformat_minor": 0,
  "metadata": {
    "accelerator": "GPU",
    "colab": {
      "name": "HW4_Q3_with_SigBin.ipynb",
      "provenance": [],
      "collapsed_sections": [
        "GrFpZXNQB9FW"
      ],
      "toc_visible": true
    },
    "kernelspec": {
      "name": "python3",
      "display_name": "Python 3"
    }
  },
  "cells": [
    {
      "cell_type": "markdown",
      "metadata": {
        "id": "GrFpZXNQB9FW"
      },
      "source": [
        "#### Copyright 2018 Google LLC."
      ]
    },
    {
      "cell_type": "code",
      "metadata": {
        "id": "43_9Kh8LCDPK"
      },
      "source": [
        "# Licensed under the Apache License, Version 2.0 (the \"License\");\n",
        "# you may not use this file except in compliance with the License.\n",
        "# You may obtain a copy of the License at\n",
        "#\n",
        "# https://www.apache.org/licenses/LICENSE-2.0\n",
        "#\n",
        "# Unless required by applicable law or agreed to in writing, software\n",
        "# distributed under the License is distributed on an \"AS IS\" BASIS,\n",
        "# WITHOUT WARRANTIES OR CONDITIONS OF ANY KIND, either express or implied.\n",
        "# See the License for the specific language governing permissions and\n",
        "# limitations under the License."
      ],
      "execution_count": null,
      "outputs": []
    },
    {
      "cell_type": "markdown",
      "metadata": {
        "id": "YHK6DyunSbs4"
      },
      "source": [
        "# Cat vs. Dog Image Classification\n"
      ]
    },
    {
      "cell_type": "code",
      "metadata": {
        "id": "xvnAdS6YFTQZ"
      },
      "source": [
        "## Set These Parameters\n",
        "last_layer_neurons = 1\n",
        "last_layer_activation = 'sigmoid'\n",
        "loss_function = 'binary_crossentropy'"
      ],
      "execution_count": null,
      "outputs": []
    },
    {
      "cell_type": "code",
      "metadata": {
        "id": "XK-IN_zNgLlT"
      },
      "source": [
        "from tensorflow.keras.preprocessing.image import ImageDataGenerator\n",
        "\n",
        "datagen = ImageDataGenerator(\n",
        "      rotation_range=40,\n",
        "      width_shift_range=0.2,\n",
        "      height_shift_range=0.2,\n",
        "      shear_range=0.2,\n",
        "      zoom_range=0.2,\n",
        "      horizontal_flip=True,\n",
        "      fill_mode='nearest')"
      ],
      "execution_count": null,
      "outputs": []
    },
    {
      "cell_type": "code",
      "metadata": {
        "id": "dhztKtUSFMXp",
        "colab": {
          "base_uri": "https://localhost:8080/"
        },
        "outputId": "bcb71251-83cb-4df3-de74-23bfc349104d"
      },
      "source": [
        "!wget --no-check-certificate \\\n",
        "   https://storage.googleapis.com/mledu-datasets/cats_and_dogs_filtered.zip -O \\\n",
        "   /tmp/cats_and_dogs_filtered.zip"
      ],
      "execution_count": null,
      "outputs": [
        {
          "output_type": "stream",
          "text": [
            "--2021-04-09 05:40:20--  https://storage.googleapis.com/mledu-datasets/cats_and_dogs_filtered.zip\n",
            "Resolving storage.googleapis.com (storage.googleapis.com)... 142.250.65.80, 172.217.9.208, 172.217.15.112, ...\n",
            "Connecting to storage.googleapis.com (storage.googleapis.com)|142.250.65.80|:443... connected.\n",
            "HTTP request sent, awaiting response... 200 OK\n",
            "Length: 68606236 (65M) [application/zip]\n",
            "Saving to: ‘/tmp/cats_and_dogs_filtered.zip’\n",
            "\n",
            "/tmp/cats_and_dogs_ 100%[===================>]  65.43M   202MB/s    in 0.3s    \n",
            "\n",
            "2021-04-09 05:40:21 (202 MB/s) - ‘/tmp/cats_and_dogs_filtered.zip’ saved [68606236/68606236]\n",
            "\n"
          ],
          "name": "stdout"
        }
      ]
    },
    {
      "cell_type": "code",
      "metadata": {
        "id": "LWkSRoJRfvGL"
      },
      "source": [
        "import os\n",
        "import zipfile\n",
        "\n",
        "local_zip = '/tmp/cats_and_dogs_filtered.zip'\n",
        "zip_ref = zipfile.ZipFile(local_zip, 'r')\n",
        "zip_ref.extractall('/tmp')\n",
        "zip_ref.close()\n",
        "  \n",
        "base_dir = '/tmp/cats_and_dogs_filtered'\n",
        "train_dir = os.path.join(base_dir, 'train')\n",
        "validation_dir = os.path.join(base_dir, 'validation')\n",
        "\n",
        "# Directory with our training cat pictures\n",
        "train_cats_dir = os.path.join(train_dir, 'cats')\n",
        "\n",
        "# Directory with our training dog pictures\n",
        "train_dogs_dir = os.path.join(train_dir, 'dogs')\n",
        "\n",
        "# Directory with our validation cat pictures\n",
        "validation_cats_dir = os.path.join(validation_dir, 'cats')\n",
        "\n",
        "# Directory with our validation dog pictures\n",
        "validation_dogs_dir = os.path.join(validation_dir, 'dogs')\n",
        "\n",
        "train_cat_fnames = os.listdir(train_cats_dir)\n",
        "train_dog_fnames = os.listdir(train_dogs_dir)"
      ],
      "execution_count": null,
      "outputs": []
    },
    {
      "cell_type": "markdown",
      "metadata": {
        "id": "02r1oXaegECk"
      },
      "source": [
        "Next, let's apply the `datagen` transformations to a cat image from the training set to produce five random variants. Rerun the cell a few times to see fresh batches of random variants."
      ]
    },
    {
      "cell_type": "code",
      "metadata": {
        "id": "e8HgwcAbmdcu",
        "colab": {
          "base_uri": "https://localhost:8080/"
        },
        "outputId": "bf68bbc1-9b92-4f27-a3c4-2bfbc6b864c6"
      },
      "source": [
        "# Adding rescale, rotation_range, width_shift_range, height_shift_range,\n",
        "# shear_range, zoom_range, and horizontal flip to our ImageDataGenerator\n",
        "train_datagen = ImageDataGenerator(\n",
        "    rescale=1./255,\n",
        "    rotation_range=20,\n",
        "    width_shift_range=0.1,\n",
        "    height_shift_range=0.1,\n",
        "    # shear_range=0.2,\n",
        "    # zoom_range=0.2,\n",
        "    horizontal_flip=True,)\n",
        "\n",
        "# Note that the validation data should not be augmented!\n",
        "val_datagen = ImageDataGenerator(rescale=1./255)\n",
        "\n",
        "#\n",
        "class_mode = 'binary' if last_layer_neurons == 1 else 'categorical'\n",
        "\n",
        "# Flow training images in batches of 32 using train_datagen generator\n",
        "train_generator = train_datagen.flow_from_directory(\n",
        "        train_dir,  # This is the source directory for training images\n",
        "        target_size=(150, 150),  # All images will be resized to 150x150\n",
        "        batch_size=20,\n",
        "        # Since we use binary_crossentropy loss, we need binary labels\n",
        "        class_mode=class_mode)\n",
        "\n",
        "# Flow validation images in batches of 32 using val_datagen generator\n",
        "validation_generator = val_datagen.flow_from_directory(\n",
        "        validation_dir,\n",
        "        target_size=(150, 150),\n",
        "        batch_size=20,\n",
        "        class_mode=class_mode)"
      ],
      "execution_count": null,
      "outputs": [
        {
          "output_type": "stream",
          "text": [
            "Found 2000 images belonging to 2 classes.\n",
            "Found 1000 images belonging to 2 classes.\n"
          ],
          "name": "stdout"
        }
      ]
    },
    {
      "cell_type": "markdown",
      "metadata": {
        "id": "K-3PrfDwDJjB"
      },
      "source": [
        "If we train a new network using this data augmentation configuration, our network will never see the same input twice. However the inputs that it sees are still heavily intercorrelated, so this might not be quite enough to completely get rid of overfitting."
      ]
    },
    {
      "cell_type": "markdown",
      "metadata": {
        "id": "lYguAfH3gyv6"
      },
      "source": [
        "## Building a Small ConvNet\n"
      ]
    },
    {
      "cell_type": "code",
      "metadata": {
        "id": "SVC4FgxiDje6"
      },
      "source": [
        "from tensorflow.keras import layers\n",
        "from tensorflow.keras import Model\n",
        "from tensorflow.keras import optimizers\n",
        "\n",
        "# Our input feature map is 150x150x3: 150x150 for the image pixels, and 3 for\n",
        "# the three color channels: R, G, and B\n",
        "img_input = layers.Input(shape=(150, 150, 3))\n",
        "\n",
        "# First convolution extracts 32 filters that are 3x3\n",
        "# Convolution is followed by max-pooling layer with a 2x2 window\n",
        "x = layers.Conv2D(32, 3, activation='relu')(img_input) \n",
        "x = layers.MaxPooling2D(2)(x)\n",
        "\n",
        "# Second convolution extracts 64 filters that are 3x3\n",
        "# Convolution is followed by max-pooling layer with a 2x2 window\n",
        "x = layers.Conv2D(64, 3, activation='relu')(x) \n",
        "x = layers.MaxPooling2D(2)(x)\n",
        "\n",
        "# Third convolution extracts 128 filters that are 3x3\n",
        "# Convolution is followed by max-pooling layer with a 2x2 window\n",
        "x = layers.Convolution2D(128, 3, activation='relu')(x) \n",
        "x = layers.MaxPooling2D(2)(x)\n",
        "\n",
        "# Flatten feature map to a 1-dim tensor\n",
        "x = layers.Flatten()(x)\n",
        "\n",
        "# Create a fully connected layer with ReLU activation and 512 hidden units\n",
        "x = layers.Dense(512, activation='relu')(x) \n",
        "\n",
        "# Add a dropout rate of 0.5\n",
        "x = layers.Dropout(0.2)(x)\n",
        "\n",
        "# add output layer\n",
        "output = layers.Dense(last_layer_neurons, activation=last_layer_activation)(x)\n",
        "\n",
        "# Configure and compile the model\n",
        "model = Model(img_input, output)\n",
        "model.compile(loss=loss_function,\n",
        "              optimizer=optimizers.RMSprop(lr=1e-3),\n",
        "              metrics=['acc'])"
      ],
      "execution_count": null,
      "outputs": []
    },
    {
      "cell_type": "code",
      "metadata": {
        "cellView": "code",
        "id": "SdW6geEVi2S8",
        "colab": {
          "base_uri": "https://localhost:8080/"
        },
        "outputId": "697ff815-f271-4874-c499-1fa4a39f5fe5"
      },
      "source": [
        "history = model.fit(\n",
        "      train_generator,\n",
        "      epochs=50,\n",
        "      validation_data=validation_generator,\n",
        "      verbose=1)"
      ],
      "execution_count": null,
      "outputs": [
        {
          "output_type": "stream",
          "text": [
            "Epoch 1/50\n",
            "100/100 [==============================] - 50s 172ms/step - loss: 1.7582 - acc: 0.4969 - val_loss: 0.6999 - val_acc: 0.5290\n",
            "Epoch 2/50\n",
            "100/100 [==============================] - 17s 169ms/step - loss: 0.6938 - acc: 0.5709 - val_loss: 0.6738 - val_acc: 0.6030\n",
            "Epoch 3/50\n",
            "100/100 [==============================] - 17s 169ms/step - loss: 0.6634 - acc: 0.6338 - val_loss: 0.5881 - val_acc: 0.6990\n",
            "Epoch 4/50\n",
            "100/100 [==============================] - 17s 170ms/step - loss: 0.6329 - acc: 0.6553 - val_loss: 0.6222 - val_acc: 0.6100\n",
            "Epoch 5/50\n",
            "100/100 [==============================] - 17s 169ms/step - loss: 0.5843 - acc: 0.7006 - val_loss: 0.6680 - val_acc: 0.6510\n",
            "Epoch 6/50\n",
            "100/100 [==============================] - 17s 168ms/step - loss: 0.5818 - acc: 0.7067 - val_loss: 0.5480 - val_acc: 0.7160\n",
            "Epoch 7/50\n",
            "100/100 [==============================] - 17s 170ms/step - loss: 0.5686 - acc: 0.7072 - val_loss: 0.5735 - val_acc: 0.6750\n",
            "Epoch 8/50\n",
            "100/100 [==============================] - 17s 169ms/step - loss: 0.5629 - acc: 0.7173 - val_loss: 0.5356 - val_acc: 0.7340\n",
            "Epoch 9/50\n",
            "100/100 [==============================] - 17s 169ms/step - loss: 0.5463 - acc: 0.7282 - val_loss: 0.5694 - val_acc: 0.7070\n",
            "Epoch 10/50\n",
            "100/100 [==============================] - 17s 170ms/step - loss: 0.5782 - acc: 0.7091 - val_loss: 0.6853 - val_acc: 0.6780\n",
            "Epoch 11/50\n",
            "100/100 [==============================] - 17s 169ms/step - loss: 0.5194 - acc: 0.7480 - val_loss: 0.5486 - val_acc: 0.7300\n",
            "Epoch 12/50\n",
            "100/100 [==============================] - 17s 169ms/step - loss: 0.5294 - acc: 0.7440 - val_loss: 0.5868 - val_acc: 0.7140\n",
            "Epoch 13/50\n",
            "100/100 [==============================] - 17s 169ms/step - loss: 0.4951 - acc: 0.7615 - val_loss: 0.5100 - val_acc: 0.7580\n",
            "Epoch 14/50\n",
            "100/100 [==============================] - 17s 170ms/step - loss: 0.5057 - acc: 0.7639 - val_loss: 0.5182 - val_acc: 0.7480\n",
            "Epoch 15/50\n",
            "100/100 [==============================] - 17s 171ms/step - loss: 0.4976 - acc: 0.7607 - val_loss: 0.5052 - val_acc: 0.7660\n",
            "Epoch 16/50\n",
            "100/100 [==============================] - 17s 170ms/step - loss: 0.4845 - acc: 0.7734 - val_loss: 0.5443 - val_acc: 0.7460\n",
            "Epoch 17/50\n",
            "100/100 [==============================] - 17s 169ms/step - loss: 0.4690 - acc: 0.7762 - val_loss: 0.4738 - val_acc: 0.7810\n",
            "Epoch 18/50\n",
            "100/100 [==============================] - 17s 170ms/step - loss: 0.4809 - acc: 0.7855 - val_loss: 0.5231 - val_acc: 0.7650\n",
            "Epoch 19/50\n",
            "100/100 [==============================] - 17s 170ms/step - loss: 0.4646 - acc: 0.7912 - val_loss: 0.4665 - val_acc: 0.7860\n",
            "Epoch 20/50\n",
            "100/100 [==============================] - 17s 171ms/step - loss: 0.4477 - acc: 0.7711 - val_loss: 0.4884 - val_acc: 0.7640\n",
            "Epoch 21/50\n",
            "100/100 [==============================] - 17s 170ms/step - loss: 0.4367 - acc: 0.8024 - val_loss: 0.5187 - val_acc: 0.7610\n",
            "Epoch 22/50\n",
            "100/100 [==============================] - 17s 169ms/step - loss: 0.4424 - acc: 0.8017 - val_loss: 1.1100 - val_acc: 0.6690\n",
            "Epoch 23/50\n",
            "100/100 [==============================] - 17s 170ms/step - loss: 0.4684 - acc: 0.7856 - val_loss: 0.5799 - val_acc: 0.7640\n",
            "Epoch 24/50\n",
            "100/100 [==============================] - 17s 171ms/step - loss: 0.4301 - acc: 0.8177 - val_loss: 0.5054 - val_acc: 0.7550\n",
            "Epoch 25/50\n",
            "100/100 [==============================] - 17s 173ms/step - loss: 0.4314 - acc: 0.8075 - val_loss: 0.5172 - val_acc: 0.7730\n",
            "Epoch 26/50\n",
            "100/100 [==============================] - 17s 170ms/step - loss: 0.4031 - acc: 0.8095 - val_loss: 0.4894 - val_acc: 0.7950\n",
            "Epoch 27/50\n",
            "100/100 [==============================] - 17s 170ms/step - loss: 0.4293 - acc: 0.7866 - val_loss: 0.4917 - val_acc: 0.7800\n",
            "Epoch 28/50\n",
            "100/100 [==============================] - 17s 172ms/step - loss: 0.4264 - acc: 0.8078 - val_loss: 0.5440 - val_acc: 0.7730\n",
            "Epoch 29/50\n",
            "100/100 [==============================] - 17s 171ms/step - loss: 0.4271 - acc: 0.8124 - val_loss: 0.5107 - val_acc: 0.7940\n",
            "Epoch 30/50\n",
            "100/100 [==============================] - 17s 172ms/step - loss: 0.4131 - acc: 0.8147 - val_loss: 0.5743 - val_acc: 0.7570\n",
            "Epoch 31/50\n",
            "100/100 [==============================] - 17s 171ms/step - loss: 0.4228 - acc: 0.8030 - val_loss: 0.4535 - val_acc: 0.7950\n",
            "Epoch 32/50\n",
            "100/100 [==============================] - 17s 170ms/step - loss: 0.4011 - acc: 0.8328 - val_loss: 0.4826 - val_acc: 0.7670\n",
            "Epoch 33/50\n",
            "100/100 [==============================] - 17s 172ms/step - loss: 0.4132 - acc: 0.8324 - val_loss: 0.9058 - val_acc: 0.6980\n",
            "Epoch 34/50\n",
            "100/100 [==============================] - 17s 170ms/step - loss: 0.4191 - acc: 0.8103 - val_loss: 0.5593 - val_acc: 0.7830\n",
            "Epoch 35/50\n",
            "100/100 [==============================] - 17s 170ms/step - loss: 0.3839 - acc: 0.8300 - val_loss: 0.4839 - val_acc: 0.8030\n",
            "Epoch 36/50\n",
            "100/100 [==============================] - 17s 170ms/step - loss: 0.3764 - acc: 0.8282 - val_loss: 0.4734 - val_acc: 0.7890\n",
            "Epoch 37/50\n",
            "100/100 [==============================] - 17s 170ms/step - loss: 0.4043 - acc: 0.8266 - val_loss: 0.4819 - val_acc: 0.7940\n",
            "Epoch 38/50\n",
            "100/100 [==============================] - 17s 170ms/step - loss: 0.3934 - acc: 0.8297 - val_loss: 0.5747 - val_acc: 0.7240\n",
            "Epoch 39/50\n",
            "100/100 [==============================] - 17s 171ms/step - loss: 0.4226 - acc: 0.8320 - val_loss: 0.5106 - val_acc: 0.7880\n",
            "Epoch 40/50\n",
            "100/100 [==============================] - 17s 171ms/step - loss: 0.4246 - acc: 0.8129 - val_loss: 0.4763 - val_acc: 0.7980\n",
            "Epoch 41/50\n",
            "100/100 [==============================] - 17s 171ms/step - loss: 0.3976 - acc: 0.8321 - val_loss: 0.4271 - val_acc: 0.8120\n",
            "Epoch 42/50\n",
            "100/100 [==============================] - 17s 171ms/step - loss: 0.4165 - acc: 0.8250 - val_loss: 0.4320 - val_acc: 0.8170\n",
            "Epoch 43/50\n",
            "100/100 [==============================] - 17s 172ms/step - loss: 0.3729 - acc: 0.8244 - val_loss: 0.4580 - val_acc: 0.7990\n",
            "Epoch 44/50\n",
            "100/100 [==============================] - 17s 172ms/step - loss: 0.3637 - acc: 0.8398 - val_loss: 0.5175 - val_acc: 0.7780\n",
            "Epoch 45/50\n",
            "100/100 [==============================] - 17s 172ms/step - loss: 0.4122 - acc: 0.8355 - val_loss: 0.5059 - val_acc: 0.8020\n",
            "Epoch 46/50\n",
            "100/100 [==============================] - 17s 171ms/step - loss: 0.3943 - acc: 0.8284 - val_loss: 0.5308 - val_acc: 0.7920\n",
            "Epoch 47/50\n",
            "100/100 [==============================] - 17s 172ms/step - loss: 0.3907 - acc: 0.8324 - val_loss: 0.4636 - val_acc: 0.8060\n",
            "Epoch 48/50\n",
            "100/100 [==============================] - 17s 172ms/step - loss: 0.3946 - acc: 0.8279 - val_loss: 0.4595 - val_acc: 0.7900\n",
            "Epoch 49/50\n",
            "100/100 [==============================] - 17s 170ms/step - loss: 0.4072 - acc: 0.8346 - val_loss: 0.6729 - val_acc: 0.7140\n",
            "Epoch 50/50\n",
            "100/100 [==============================] - 17s 169ms/step - loss: 0.3661 - acc: 0.8346 - val_loss: 0.5184 - val_acc: 0.8110\n"
          ],
          "name": "stdout"
        }
      ]
    },
    {
      "cell_type": "markdown",
      "metadata": {
        "id": "1LTWMLV6SUvP"
      },
      "source": [
        "Note that with data augmentation in place, the 2,000 training images are randomly transformed each time a new training epoch runs, which means that the model will never see the same image twice during training."
      ]
    },
    {
      "cell_type": "markdown",
      "metadata": {
        "id": "IZqvC9UJlWc2"
      },
      "source": [
        "## Evaluate the Results\n",
        "\n",
        "Let's evaluate the results of model training with data augmentation and dropout:"
      ]
    },
    {
      "cell_type": "code",
      "metadata": {
        "id": "NKCjHegASXaA",
        "colab": {
          "base_uri": "https://localhost:8080/",
          "height": 562
        },
        "outputId": "991c273d-d088-42b3-c62a-44dace399b19"
      },
      "source": [
        "from matplotlib import pyplot as plt\n",
        "\n",
        "# Retrieve a list of accuracy results on training and validation data\n",
        "# sets for each training epoch\n",
        "acc = history.history['acc']\n",
        "val_acc = history.history['val_acc']\n",
        "\n",
        "# Retrieve a list of list results on training and validation data\n",
        "# sets for each training epoch\n",
        "loss = history.history['loss']\n",
        "val_loss = history.history['val_loss']\n",
        "\n",
        "# Get number of epochs\n",
        "epochs = range(len(acc))\n",
        "\n",
        "# Plot training and validation accuracy per epoch\n",
        "plt.plot(epochs, acc)\n",
        "plt.plot(epochs, val_acc)\n",
        "plt.title('Training and validation accuracy')\n",
        "\n",
        "plt.figure()\n",
        "\n",
        "# Plot training and validation loss per epoch\n",
        "plt.plot(epochs, loss)\n",
        "plt.plot(epochs, val_loss)\n",
        "plt.title('Training and validation loss')"
      ],
      "execution_count": null,
      "outputs": [
        {
          "output_type": "execute_result",
          "data": {
            "text/plain": [
              "Text(0.5, 1.0, 'Training and validation loss')"
            ]
          },
          "metadata": {
            "tags": []
          },
          "execution_count": 8
        },
        {
          "output_type": "display_data",
          "data": {
            "image/png": "[encoded data removed]",
            "text/plain": [
              "<Figure size 432x288 with 1 Axes>"
            ]
          },
          "metadata": {
            "tags": [],
            "needs_background": "light"
          }
        },
        {
          "output_type": "display_data",
          "data": {
            "image/png": "[encoded data removed]",
            "text/plain": [
              "<Figure size 432x288 with 1 Axes>"
            ]
          },
          "metadata": {
            "tags": [],
            "needs_background": "light"
          }
        }
      ]
    }
  ]
}