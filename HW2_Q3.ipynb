{
  "cells": [
    {
      "cell_type": "markdown",
      "metadata": {
        "id": "9DGZ7qMLPM_J"
      },
      "source": [
        "## Import some prerequirement"
      ]
    },
    {
      "cell_type": "code",
      "execution_count": null,
      "metadata": {
        "id": "uqz_Q2yROq1g"
      },
      "outputs": [],
      "source": [
        "import os\n",
        "import cv2\n",
        "import numpy as np\n",
        "import tensorflow as tf\n",
        "import matplotlib.pyplot as plt\n",
        "# Import My Packages.\n",
        "import pandas as pd\n",
        "import seaborn as sn\n",
        "from tensorflow import keras                                              # This is used for building model.\n",
        "from tensorflow.keras.callbacks import TensorBoard                        # This is used for visualizing model training procedure.\n",
        "from sklearn.metrics import confusion_matrix, classification_report"
      ]
    },
    {
      "cell_type": "markdown",
      "metadata": {
        "id": "Da_-mxp7QdjB"
      },
      "source": [
        "## Set hyperparameters"
      ]
    },
    {
      "cell_type": "code",
      "execution_count": null,
      "metadata": {
        "id": "zRlfdCizMcHG"
      },
      "outputs": [],
      "source": [
        "IMG_WIDTH = 28                                                            # The width of each image in dataset.\n",
        "IMG_HEIGHT = 28                                                           # The height of each image in dataset.\n",
        "EPOCHS = 100                                                              # Total Number of epoch in training procedure.\n",
        "BATCH_SIZE= 128                                                           # The size of each batch in SGD optimizer.\n",
        "n_classes = 10                                                            # Number of classes which model should predict."
      ]
    },
    {
      "cell_type": "markdown",
      "metadata": {
        "id": "pVp5VcJvc1C2"
      },
      "source": [
        "## Initialize train and test data"
      ]
    },
    {
      "cell_type": "code",
      "execution_count": null,
      "metadata": {
        "id": "5x_C3sDuQmlt"
      },
      "outputs": [],
      "source": [
        "data = np.load('mnist.npz')\n",
        "[x_train, y_train, x_test, y_test] = data['x_train'], data['y_train'], data['x_test'], data['y_test']"
      ]
    },
    {
      "cell_type": "markdown",
      "metadata": {
        "id": "omseU3OQQs4K"
      },
      "source": [
        "## Show dataset"
      ]
    },
    {
      "cell_type": "code",
      "execution_count": null,
      "metadata": {
        "id": "y1XvM-DaPYOG"
      },
      "outputs": [],
      "source": [
        "plt.figure(figsize=(25,4))\n",
        "for i in range(8):\n",
        "    plt.subplot(1,8,i+1)\n",
        "    plt.imshow(x_train[i], cmap='gray')\n",
        "    plt.xticks([])\n",
        "    plt.yticks([])\n",
        "    plt.title(y_train[i])"
      ]
    },
    {
      "cell_type": "code",
      "source": [
        "# Normalize input images.\n",
        "x_train = x_train.astype(float) / 255.\n",
        "x_test  = x_test.astype(float) / 255.\n",
        "# Convert each final expected class to one-hot representation.\n",
        "y_train = keras.utils.to_categorical(y_train, n_classes)\n",
        "y_test = keras.utils.to_categorical(y_test, n_classes)"
      ],
      "metadata": {
        "id": "o6JUy8gI1Id5"
      },
      "execution_count": null,
      "outputs": []
    },
    {
      "cell_type": "markdown",
      "metadata": {
        "id": "VazcvGGRHjZu"
      },
      "source": [
        "## Define model"
      ]
    },
    {
      "cell_type": "code",
      "execution_count": null,
      "metadata": {
        "id": "1TCJHBSUsLSS"
      },
      "outputs": [],
      "source": [
        "# In this section we build our model...\n",
        "# which has only 3 Dense layers according to question.\n",
        "def build_model():\n",
        "    model = keras.Sequential()\n",
        "    model.add(keras.layers.Input(shape=(IMG_WIDTH, IMG_HEIGHT)))     # Define the input shape to model.\n",
        "    model.add(keras.layers.Flatten())                                # Convert input 2D images to 1D vector.\n",
        "    # Three mentioned Dense layers end with the size 10.\n",
        "    model.add(keras.layers.Dense(units=256, activation='relu'))\n",
        "    model.add(keras.layers.Dense(units=64, activation='relu'))\n",
        "    model.add(keras.layers.Dense(units=10, activation='softmax'))\n",
        "    return model"
      ]
    },
    {
      "cell_type": "code",
      "source": [
        "# Load the TensorBoard notebook extension.\n",
        "%load_ext tensorboard\n",
        "# Run TensorBoard.\n",
        "%tensorboard --logdir logs"
      ],
      "metadata": {
        "id": "DzHHy9JX1Q-W"
      },
      "execution_count": null,
      "outputs": []
    },
    {
      "cell_type": "markdown",
      "metadata": {
        "id": "X1QKfUHLKsJ5"
      },
      "source": [
        "## Compile and fit model"
      ]
    },
    {
      "cell_type": "code",
      "execution_count": null,
      "metadata": {
        "id": "1yaeMNzsKxuz"
      },
      "outputs": [],
      "source": [
        "AdaGrad_model = build_model()        # Build AdaGrad model.\n",
        "\n",
        "# Compile AdaGrad model.\n",
        "AdaGrad_model.compile(loss='categorical_crossentropy', optimizer=keras.optimizers.Adagrad(), metrics=['accuracy'])\n",
        "\n",
        "# Initializing ModelCheckPoint callbacks for AdaGrad model.\n",
        "AdaGrad_modelcheckpoint = tf.keras.callbacks.ModelCheckpoint('best_models/AdaGrad.hdf5',\n",
        "                                                             monitor=\"val_accuracy\",\n",
        "                                                             save_best_only=True)\n",
        "# Initializing TensorBoard callbacks for AdaGrad model.\n",
        "AdaGrad_tensorboard = TensorBoard(log_dir='logs/AdaGrad')\n",
        "\n",
        "# Gathering two above callbacks in one callback.\n",
        "AdaGrad_callbacks = [\n",
        "    AdaGrad_modelcheckpoint,\n",
        "    AdaGrad_tensorboard\n",
        "]\n",
        "\n",
        "# Training AdaGrad model with defined callbacks.\n",
        "AdaGrad_history = AdaGrad_model.fit(x_train, y_train,\n",
        "                                    validation_data=(x_test, y_test),\n",
        "                                    batch_size=BATCH_SIZE,\n",
        "                                    epochs=EPOCHS,\n",
        "                                    shuffle=True,\n",
        "                                    verbose=0,\n",
        "                                    callbacks=AdaGrad_callbacks)"
      ]
    },
    {
      "cell_type": "code",
      "source": [
        "RMSProp_model = build_model()        # Build RMSProp model.\n",
        "\n",
        "# Compile RMSProp model.\n",
        "RMSProp_model.compile(loss='categorical_crossentropy', optimizer=keras.optimizers.RMSprop(), metrics=['accuracy'])\n",
        "\n",
        "# Initializing ModelCheckPoint callbacks for RMSProp model.\n",
        "RMSProp_modelcheckpoint = tf.keras.callbacks.ModelCheckpoint('best_models/RMSProp.hdf5',\n",
        "                                                             monitor=\"val_accuracy\",\n",
        "                                                             save_best_only=True)\n",
        "# Initializing TensorBoard callbacks for RMSProp model.\n",
        "RMSProp_tensorboard = TensorBoard(log_dir='logs/RMSProp')\n",
        "\n",
        "# Gathering two above callbacks in one callback.\n",
        "RMSProp_callbacks = [\n",
        "    RMSProp_modelcheckpoint,\n",
        "    RMSProp_tensorboard\n",
        "]\n",
        "\n",
        "# Training RMSProp model with defined callbacks.\n",
        "RMSProp_history = RMSProp_model.fit(x_train, y_train,\n",
        "                                    validation_data=(x_test, y_test),\n",
        "                                    batch_size=BATCH_SIZE,\n",
        "                                    epochs=EPOCHS,\n",
        "                                    shuffle=True,\n",
        "                                    verbose=0,\n",
        "                                    callbacks=RMSProp_callbacks)"
      ],
      "metadata": {
        "id": "WyYzwxiD1aec"
      },
      "execution_count": null,
      "outputs": []
    },
    {
      "cell_type": "code",
      "source": [
        "Adam_model = build_model()        # Build Adam model.\n",
        "\n",
        "# Compile Adam model.\n",
        "Adam_model.compile(loss='categorical_crossentropy', optimizer=keras.optimizers.Adam(), metrics=['accuracy'])\n",
        "\n",
        "# Initializing ModelCheckPoint callbacks for Adam model.\n",
        "Adam_modelcheckpoint = tf.keras.callbacks.ModelCheckpoint('best_models/Adam.hdf5',\n",
        "                                                          monitor=\"val_accuracy\",\n",
        "                                                          save_best_only=True)\n",
        "# Initializing TensorBoard callbacks for Adam model.\n",
        "Adam_tensorboard = TensorBoard(log_dir='logs/Adam')\n",
        "\n",
        "# Gathering two above callbacks in one callback.\n",
        "Adam_callbacks = [\n",
        "    Adam_modelcheckpoint,\n",
        "    Adam_tensorboard\n",
        "]\n",
        "\n",
        "# Training Adam model with defined callbacks.\n",
        "Adam_history = Adam_model.fit(x_train, y_train,\n",
        "                              validation_data=(x_test, y_test),\n",
        "                              batch_size=BATCH_SIZE,\n",
        "                              epochs=EPOCHS,\n",
        "                              shuffle=True,\n",
        "                              verbose=0,\n",
        "                              callbacks=Adam_callbacks)"
      ],
      "metadata": {
        "id": "sArAvh3m1bl7"
      },
      "execution_count": null,
      "outputs": []
    },
    {
      "cell_type": "markdown",
      "metadata": {
        "id": "y6hFEj66HnQL"
      },
      "source": [
        "## Load and compile best model"
      ]
    },
    {
      "cell_type": "code",
      "execution_count": null,
      "metadata": {
        "id": "WGMIz6WGHiNM"
      },
      "outputs": [],
      "source": [
        "# Load best models.\n",
        "Loaded_AdaGrad_model = keras.models.load_model('best_models/AdaGrad.hdf5')\n",
        "Loaded_RMSProp_model = keras.models.load_model('best_models/RMSProp.hdf5')\n",
        "Loaded_Adam_model = keras.models.load_model('best_models/Adam.hdf5')\n",
        "# Compile best models.\n",
        "Loaded_AdaGrad_model.compile(loss='categorical_crossentropy', optimizer=keras.optimizers.Adagrad(), metrics=['accuracy'])\n",
        "Loaded_RMSProp_model.compile(loss='categorical_crossentropy', optimizer=keras.optimizers.RMSprop(), metrics=['accuracy'])\n",
        "Loaded_Adam_model.compile(loss='categorical_crossentropy', optimizer=keras.optimizers.Adam(), metrics=['accuracy'])"
      ]
    },
    {
      "cell_type": "markdown",
      "metadata": {
        "id": "Ya1E9pHzLOBG"
      },
      "source": [
        "## Evaluate best model"
      ]
    },
    {
      "cell_type": "code",
      "execution_count": null,
      "metadata": {
        "id": "1iJYPtFXHMFb"
      },
      "outputs": [],
      "source": [
        "# Evaluate best models.\n",
        "print('AdaGrad Evaluation Result:')\n",
        "print(Loaded_AdaGrad_model.evaluate(x_test, y_test))\n",
        "print('RMSProp Evaluation Result:')\n",
        "print(Loaded_RMSProp_model.evaluate(x_test, y_test))\n",
        "print('Adam Evaluation Result:')\n",
        "print(Loaded_Adam_model.evaluate(x_test, y_test))"
      ]
    },
    {
      "cell_type": "markdown",
      "metadata": {
        "id": "J8gdZX4QIN3i"
      },
      "source": [
        "## Get Reports"
      ]
    },
    {
      "cell_type": "code",
      "execution_count": null,
      "metadata": {
        "id": "_rXoX8ybIQnQ"
      },
      "outputs": [],
      "source": [
        "# Implementing function that report the evaluation of models with confusion matrix and classification report.\n",
        "def evaluation(y_test, y_pred, title):\n",
        "    cr = classification_report(y_test, y_pred)\n",
        "    print(title + ' Evaluation Result - Classification Report:')\n",
        "    print(cr)\n",
        "    print(title + ' Evaluation Result - Confusion Matrix:')\n",
        "    cm = confusion_matrix(y_test, y_pred)\n",
        "    df_cm = pd.DataFrame(cm, range(10), range(10))\n",
        "    plt.figure(figsize = (10, 7))\n",
        "    sn.set(font_scale = 1.4)\n",
        "    sn.heatmap(df_cm , annot = True, annot_kws = {\"size\" : 16}, fmt = 'g') # font size\n",
        "    plt.show()\n",
        "    "
      ]
    },
    {
      "cell_type": "code",
      "source": [
        "# Evaluating AdaGrad Optimization.\n",
        "AdaGrad_predict = np.argmax(Loaded_AdaGrad_model.predict(x_test), axis=1)\n",
        "AdaGrad_expected = np.argmax(y_test, axis=1)\n",
        "evaluation(AdaGrad_expected, AdaGrad_predict, 'AdaGrad')"
      ],
      "metadata": {
        "id": "prHZUcoh1xZn"
      },
      "execution_count": null,
      "outputs": []
    },
    {
      "cell_type": "code",
      "source": [
        "# Evaluating RMSProp Optimization.\n",
        "RMSProp_predict = np.argmax(Loaded_RMSProp_model.predict(x_test), axis=1)\n",
        "RMSProp_expected = np.argmax(y_test, axis=1)\n",
        "evaluation(RMSProp_expected, RMSProp_predict, 'RMSProp')"
      ],
      "metadata": {
        "id": "cPFwN9-d12jl"
      },
      "execution_count": null,
      "outputs": []
    },
    {
      "cell_type": "code",
      "source": [
        "# Evaluating Adam Optimization.\n",
        "Adam_predict = np.argmax(Loaded_Adam_model.predict(x_test), axis=1)\n",
        "Adam_expected = np.argmax(y_test, axis=1)\n",
        "evaluation(Adam_expected, Adam_predict, 'Adam')"
      ],
      "metadata": {
        "id": "007bzbA-15Qj"
      },
      "execution_count": null,
      "outputs": []
    }
  ],
  "metadata": {
    "accelerator": "GPU",
    "colab": {
      "provenance": [],
      "toc_visible": true
    },
    "kernelspec": {
      "display_name": "Python 3",
      "language": "python",
      "name": "python3"
    },
    "language_info": {
      "codemirror_mode": {
        "name": "ipython",
        "version": 3
      },
      "file_extension": ".py",
      "mimetype": "text/x-python",
      "name": "python",
      "nbconvert_exporter": "python",
      "pygments_lexer": "ipython3",
      "version": "3.6.8"
    }
  },
  "nbformat": 4,
  "nbformat_minor": 0
}